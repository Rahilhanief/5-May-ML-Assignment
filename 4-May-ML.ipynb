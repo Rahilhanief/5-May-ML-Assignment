{
 "cells": [
  {
   "cell_type": "code",
   "execution_count": 1,
   "id": "8898240e-0009-4ea1-90c3-b104f733d9c9",
   "metadata": {},
   "outputs": [
    {
     "data": {
      "text/plain": [
       "'\\nTime series analysis is used for non-stationary data—things that are constantly fluctuating over time \\nor are affected by time. Industries like finance, retail, \\nand economics frequently use time series analysis because currency and sales are always changing.\\n'"
      ]
     },
     "execution_count": 1,
     "metadata": {},
     "output_type": "execute_result"
    }
   ],
   "source": [
    "## Q No. 1 :\n",
    "\"\"\"\n",
    "Time series analysis is used for non-stationary data—things that are constantly fluctuating over time \n",
    "or are affected by time. Industries like finance, retail, \n",
    "and economics frequently use time series analysis because currency and sales are always changing.\n",
    "\"\"\""
   ]
  },
  {
   "cell_type": "code",
   "execution_count": 2,
   "id": "e46e1d36-3442-4fb0-a9cf-b88248712947",
   "metadata": {},
   "outputs": [
    {
     "data": {
      "text/plain": [
       "'\\nHere are the 4 major components:\\n1.Trend component.\\nA trend exists when there is a long-term increase or decrease in the data. It does not have to be linear.\\n2.Seasonal component.\\nA seasonal pattern occurs when a time series is affected by seasonal factors such as the time of the year\\nor the day of the week\\n3.Cyclical component.\\nA cycle occurs when the data exhibit rises and falls that are not of a fixed frequency.\\n4.Irregular component.\\n'"
      ]
     },
     "execution_count": 2,
     "metadata": {},
     "output_type": "execute_result"
    }
   ],
   "source": [
    "## Q No. 2 :\n",
    "\"\"\"\n",
    "Here are the 4 major components:\n",
    "1.Trend component.\n",
    "A trend exists when there is a long-term increase or decrease in the data. It does not have to be linear.\n",
    "2.Seasonal component.\n",
    "A seasonal pattern occurs when a time series is affected by seasonal factors such as the time of the year\n",
    "or the day of the week\n",
    "3.Cyclical component.\n",
    "A cycle occurs when the data exhibit rises and falls that are not of a fixed frequency.\n",
    "4.Irregular component.\n",
    "\"\"\""
   ]
  },
  {
   "cell_type": "code",
   "execution_count": 3,
   "id": "c42faa1b-ac01-4300-9ad0-54239a80ead9",
   "metadata": {},
   "outputs": [
    {
     "data": {
      "text/plain": [
       "'\\nData cleaning.\\nData integration.\\nData reduction. \\nData transformation.\\n'"
      ]
     },
     "execution_count": 3,
     "metadata": {},
     "output_type": "execute_result"
    }
   ],
   "source": [
    "## Q No. 3 :\n",
    "\"\"\"\n",
    "Data cleaning.\n",
    "Data integration.\n",
    "Data reduction. \n",
    "Data transformation.\n",
    "\"\"\""
   ]
  },
  {
   "cell_type": "code",
   "execution_count": 4,
   "id": "63649daa-4907-4f51-92b9-9afc4bbe0a90",
   "metadata": {},
   "outputs": [
    {
     "data": {
      "text/plain": [
       "'\\nTime series analysis helps in analyzing the past, which comes in handy to forecast the future. \\nThe method is extensively employed in a financial and business forecast based on the historical\\npattern of data points collected over time and comparing it with the current trends.\\n'"
      ]
     },
     "execution_count": 4,
     "metadata": {},
     "output_type": "execute_result"
    }
   ],
   "source": [
    "## Q No. 4 :\n",
    "\"\"\"\n",
    "Time series analysis helps in analyzing the past, which comes in handy to forecast the future. \n",
    "The method is extensively employed in a financial and business forecast based on the historical\n",
    "pattern of data points collected over time and comparing it with the current trends.\n",
    "\"\"\""
   ]
  },
  {
   "cell_type": "code",
   "execution_count": 6,
   "id": "d29eca40-4e1c-45f0-85ba-79ca24595c14",
   "metadata": {},
   "outputs": [
    {
     "data": {
      "text/plain": [
       "'\\nAn autoregressive integrated moving average, or ARIMA, is a statistical analysis model that uses time series data \\nto either better understand the data set or to predict future trends.\\nA statistical model is autoregressive if it predicts future values based on past values.\\nARIMA models use differencing to convert a non-stationary time series into a stationary one,\\nand then predict future values from historical data. \\nThese models use “auto” correlations and moving averages over residual errors in the data to forecast future values.\\n'"
      ]
     },
     "execution_count": 6,
     "metadata": {},
     "output_type": "execute_result"
    }
   ],
   "source": [
    "## Q No. 5 :\n",
    "\"\"\"\n",
    "An autoregressive integrated moving average, or ARIMA, is a statistical analysis model that uses time series data \n",
    "to either better understand the data set or to predict future trends.\n",
    "A statistical model is autoregressive if it predicts future values based on past values.\n",
    "ARIMA models use differencing to convert a non-stationary time series into a stationary one,\n",
    "and then predict future values from historical data. \n",
    "These models use “auto” correlations and moving averages over residual errors in the data to forecast future values.\n",
    "\"\"\""
   ]
  },
  {
   "cell_type": "code",
   "execution_count": 7,
   "id": "8b45b32b-2bee-4521-8cb8-2b05083f3987",
   "metadata": {},
   "outputs": [
    {
     "data": {
      "text/plain": [
       "'\\nAn AR signature corresponds to a PACF plot displaying a sharp cut-off and a more slowly decaying ACF;\\nAn MA signature corresponds to an ACF plot displaying a sharp cut-off and a PACF plot that decays more slowly.\\n'"
      ]
     },
     "execution_count": 7,
     "metadata": {},
     "output_type": "execute_result"
    }
   ],
   "source": [
    "## Q No. 6 :\n",
    "\"\"\"\n",
    "An AR signature corresponds to a PACF plot displaying a sharp cut-off and a more slowly decaying ACF;\n",
    "An MA signature corresponds to an ACF plot displaying a sharp cut-off and a PACF plot that decays more slowly.\n",
    "\"\"\""
   ]
  },
  {
   "cell_type": "code",
   "execution_count": 8,
   "id": "a409f39b-1771-4809-aa7a-ab0b862ec145",
   "metadata": {},
   "outputs": [
    {
     "data": {
      "text/plain": [
       "\"\\nData should be stationary – by stationary it means that the properties of the series doesn't \\ndepend on the time when it is captured.\\nA white noise series and series with cyclic behavior can also be considered as stationary series.\\n\""
      ]
     },
     "execution_count": 8,
     "metadata": {},
     "output_type": "execute_result"
    }
   ],
   "source": [
    "## Q No. 7 :\n",
    "\"\"\"\n",
    "Data should be stationary – by stationary it means that the properties of the series doesn't \n",
    "depend on the time when it is captured.\n",
    "A white noise series and series with cyclic behavior can also be considered as stationary series.\n",
    "\"\"\""
   ]
  },
  {
   "cell_type": "code",
   "execution_count": 9,
   "id": "9d3dd933-7b27-4b5b-a4d4-c0329701ec83",
   "metadata": {},
   "outputs": [
    {
     "data": {
      "text/plain": [
       "'\\nAutoRegressive Integrated Moving Average (ARIMA) models are among the most widely used time series forecasting techniques:\\nIn an Autoregressive model, the forecasts correspond to a linear combination of past values of the variable.\\n'"
      ]
     },
     "execution_count": 9,
     "metadata": {},
     "output_type": "execute_result"
    }
   ],
   "source": [
    "## Q No. 8 :\n",
    "\"\"\"\n",
    "AutoRegressive Integrated Moving Average (ARIMA) models are among the most widely used time series forecasting techniques:\n",
    "In an Autoregressive model, the forecasts correspond to a linear combination of past values of the variable.\n",
    "\"\"\""
   ]
  },
  {
   "cell_type": "code",
   "execution_count": 10,
   "id": "56177886-4604-43ce-8ea8-12a833b8bbcc",
   "metadata": {},
   "outputs": [
    {
     "data": {
      "text/plain": [
       "'\\nTime series analysis also suffers from a number of weaknesses, including problems with generalization from \\na single study, difficulty in obtaining appropriate measures, and problems with accurately identifying the \\ncorrect model to represent the data.\\nExamples of time series analysis in action include: Weather data. Rainfall measurements. Temperature readings.\\n'"
      ]
     },
     "execution_count": 10,
     "metadata": {},
     "output_type": "execute_result"
    }
   ],
   "source": [
    "## Q No. 9 :\n",
    "\"\"\"\n",
    "Time series analysis also suffers from a number of weaknesses, including problems with generalization from \n",
    "a single study, difficulty in obtaining appropriate measures, and problems with accurately identifying the \n",
    "correct model to represent the data.\n",
    "Examples of time series analysis in action include: Weather data. Rainfall measurements. Temperature readings.\n",
    "\"\"\""
   ]
  },
  {
   "cell_type": "code",
   "execution_count": 11,
   "id": "b0805013-59f7-4d89-bf3b-58d3105611b3",
   "metadata": {},
   "outputs": [
    {
     "data": {
      "text/plain": [
       "'\\nA stationary time series has a constant variance and it always returns to the long-run mean.\\nA time series whose statistical properties change over time is called a non-stationary time series. \\nThus a time series with a trend or seasonality is non-stationary in nature.\\nStationarity is an important concept in the field of time series analysis with tremendous influence on how the\\ndata is perceived and predicted. When forecasting or predicting the future, most time series models assume that\\neach point is independent of one another.\\n'"
      ]
     },
     "execution_count": 11,
     "metadata": {},
     "output_type": "execute_result"
    }
   ],
   "source": [
    "## Q No. 10 :\n",
    "\"\"\"\n",
    "A stationary time series has a constant variance and it always returns to the long-run mean.\n",
    "A time series whose statistical properties change over time is called a non-stationary time series. \n",
    "Thus a time series with a trend or seasonality is non-stationary in nature.\n",
    "Stationarity is an important concept in the field of time series analysis with tremendous influence on how the\n",
    "data is perceived and predicted. When forecasting or predicting the future, most time series models assume that\n",
    "each point is independent of one another.\n",
    "\"\"\""
   ]
  }
 ],
 "metadata": {
  "kernelspec": {
   "display_name": "Python 3 (ipykernel)",
   "language": "python",
   "name": "python3"
  },
  "language_info": {
   "codemirror_mode": {
    "name": "ipython",
    "version": 3
   },
   "file_extension": ".py",
   "mimetype": "text/x-python",
   "name": "python",
   "nbconvert_exporter": "python",
   "pygments_lexer": "ipython3",
   "version": "3.10.8"
  }
 },
 "nbformat": 4,
 "nbformat_minor": 5
}
